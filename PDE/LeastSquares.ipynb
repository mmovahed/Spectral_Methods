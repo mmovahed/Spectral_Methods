{
  "nbformat": 4,
  "nbformat_minor": 0,
  "metadata": {
    "colab": {
      "provenance": [],
      "authorship_tag": "ABX9TyN4mzQd35O/09cIcbvEnGUz",
      "include_colab_link": true
    },
    "kernelspec": {
      "name": "python3",
      "display_name": "Python 3"
    },
    "language_info": {
      "name": "python"
    }
  },
  "cells": [
    {
      "cell_type": "markdown",
      "metadata": {
        "id": "view-in-github",
        "colab_type": "text"
      },
      "source": [
        "<a href=\"https://colab.research.google.com/github/mmovahed/Spectral_Methods/blob/main/PDE/LeastSquares.ipynb\" target=\"_parent\"><img src=\"https://colab.research.google.com/assets/colab-badge.svg\" alt=\"Open In Colab\"/></a>"
      ]
    },
    {
      "cell_type": "markdown",
      "source": [
        "# Least-squares weighted residual method"
      ],
      "metadata": {
        "id": "6ut0kWLxS1Ac"
      }
    },
    {
      "cell_type": "markdown",
      "source": [
        "The one-dimensional heat equation:\n",
        "\n",
        "$ \\frac{\\partial u}{\\partial t} = \\alpha \\frac{\\partial^2 u}{\\partial x^2} $\n",
        "\n",
        "Domain: $( x \\in [0, L])$ and $(t \\geq 0)$\n",
        "\n",
        "Boundary conditions: $( u(0, t) = u(L, t) = 0 )$\n",
        "\n",
        "Initial condition: $( u(x, 0) = \\sin(\\pi x) )$.\n"
      ],
      "metadata": {
        "id": "tRWhGMarU0Xk"
      }
    },
    {
      "cell_type": "code",
      "execution_count": 1,
      "metadata": {
        "colab": {
          "base_uri": "https://localhost:8080/",
          "height": 430
        },
        "id": "usf9QVMgXwWo",
        "outputId": "9ffddbcd-fec9-4ea8-f462-65f0bb467cc4"
      },
      "outputs": [
        {
          "output_type": "display_data",
          "data": {
            "text/plain": [
              "<Figure size 640x480 with 1 Axes>"
            ],
            "image/png": "[encoded data removed]"
          },
          "metadata": {}
        }
      ],
      "source": [
        "import numpy as np\n",
        "import scipy.linalg as la\n",
        "\n",
        "# Parameters\n",
        "L = 1.0         # Length of the domain\n",
        "alpha = 1.0     # Diffusion coefficient\n",
        "N = 10          # Number of spatial points\n",
        "M = 100         # Number of time points\n",
        "T = 0.1         # Total time\n",
        "\n",
        "# Discretization\n",
        "x = np.linspace(0, L, N)\n",
        "dx = x[1] - x[0]\n",
        "t = np.linspace(0, T, M)\n",
        "dt = t[1] - t[0]\n",
        "\n",
        "# Initial condition\n",
        "u0 = np.sin(np.pi * x)\n",
        "\n",
        "# Sine basis functions (excluding first and last points to satisfy boundary conditions)\n",
        "def basis_function(k, x):\n",
        "    return np.sin(k * np.pi * x / L)\n",
        "\n",
        "# Compute coefficients for initial condition\n",
        "def initial_coefficients(u0, N):\n",
        "    a = np.zeros(N-1)\n",
        "    for k in range(1, N):\n",
        "        a[k-1] = 2.0 / L * np.trapz(u0 * basis_function(k, x), x)\n",
        "    return a\n",
        "\n",
        "# Time-stepping using Crank-Nicolson method\n",
        "def crank_nicolson_step(a, dt, alpha, N):\n",
        "    A = np.zeros((N-1, N-1))\n",
        "    for i in range(1, N):\n",
        "        for j in range(1, N):\n",
        "            if i == j:\n",
        "                A[i-1, j-1] = 1 + alpha * (np.pi * i / L) ** 2 * dt / 2\n",
        "            else:\n",
        "                A[i-1, j-1] = 0\n",
        "\n",
        "    B = np.zeros((N-1, N-1))\n",
        "    for i in range(1, N):\n",
        "        for j in range(1, N):\n",
        "            if i == j:\n",
        "                B[i-1, j-1] = 1 - alpha * (np.pi * i / L) ** 2 * dt / 2\n",
        "            else:\n",
        "                B[i-1, j-1] = 0\n",
        "\n",
        "    a_new = la.solve(A, B.dot(a))\n",
        "    return a_new\n",
        "\n",
        "# Initial coefficients\n",
        "a = initial_coefficients(u0, N)\n",
        "\n",
        "# Time-stepping\n",
        "u = np.zeros((M, N))\n",
        "u[0, :] = u0\n",
        "for n in range(1, M):\n",
        "    a = crank_nicolson_step(a, dt, alpha, N)\n",
        "    u[n, :] = np.zeros(N)\n",
        "    for k in range(1, N):\n",
        "        u[n, :] += a[k-1] * basis_function(k, x)\n",
        "\n",
        "# Results\n",
        "import matplotlib.pyplot as plt\n",
        "from matplotlib.animation import FuncAnimation\n",
        "\n",
        "fig, ax = plt.subplots()\n",
        "line, = ax.plot(x, u0)\n",
        "\n",
        "def update(frame):\n",
        "    line.set_ydata(u[frame, :])\n",
        "    return line,\n",
        "\n",
        "ani = FuncAnimation(fig, update, frames=range(M), blit=True)\n",
        "plt.show()"
      ]
    }
  ]
}