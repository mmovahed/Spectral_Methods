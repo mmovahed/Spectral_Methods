{
  "nbformat": 4,
  "nbformat_minor": 0,
  "metadata": {
    "colab": {
      "provenance": [],
      "authorship_tag": "ABX9TyPNO6gSYOvrv9eYzZULfDQt",
      "include_colab_link": true
    },
    "kernelspec": {
      "name": "python3",
      "display_name": "Python 3"
    },
    "language_info": {
      "name": "python"
    }
  },
  "cells": [
    {
      "cell_type": "markdown",
      "metadata": {
        "id": "view-in-github",
        "colab_type": "text"
      },
      "source": [
        "<a href=\"https://colab.research.google.com/github/mmovahed/Spectral_Methods/blob/main/ODE/Ritz_Collocation.ipynb\" target=\"_parent\"><img src=\"https://colab.research.google.com/assets/colab-badge.svg\" alt=\"Open In Colab\"/></a>"
      ]
    },
    {
      "cell_type": "code",
      "execution_count": 1,
      "metadata": {
        "colab": {
          "base_uri": "https://localhost:8080/"
        },
        "id": "FwtFr5kufgKD",
        "outputId": "0ccee06a-9434-460a-9a96-9a8944cd4242"
      },
      "outputs": [
        {
          "output_type": "stream",
          "name": "stdout",
          "text": [
            "The approximate solution at x = 0.5 is y = 1.6499062678642922\n",
            "The exact solution at x = 0.5 is y = 1.6487212707001282\n",
            "MAE at x = 0.5 is 0.0011849971641639812\n"
          ]
        }
      ],
      "source": [
        "import numpy as np\n",
        "from scipy.interpolate import BarycentricInterpolator\n",
        "from scipy.optimize import fsolve\n",
        "\n",
        "# Define the ODE as a function\n",
        "def ode(x, y):\n",
        "    return y  # Example: dy/dx = y\n",
        "\n",
        "def exact(x):\n",
        "    return np.exp(x)\n",
        "\n",
        "# Initial condition\n",
        "x0 = 0\n",
        "y0 = 1\n",
        "\n",
        "# Define the collocation points\n",
        "num_points = 50  # Number of collocation points\n",
        "x_collocation = np.linspace(x0, x0 + 1, num_points)  # Example range [x0, x0+1]\n",
        "\n",
        "# Initial guess for the solution at the collocation points\n",
        "y_guess = np.full(num_points, y0)\n",
        "\n",
        "# Define the basis functions for the Ritz method\n",
        "def basis_function(n, x):\n",
        "    return x**n\n",
        "\n",
        "# Collocation method with Ritz method for initial condition\n",
        "def collocation(y_collocation):\n",
        "    # Create an interpolating polynomial through the collocation points\n",
        "    interpolant = BarycentricInterpolator(x_collocation, y_collocation)\n",
        "\n",
        "    # Calculate the residuals at the collocation points (excluding the first point, x0)\n",
        "    residuals = [ode(x, interpolant(x)) - np.gradient(interpolant(x_collocation), x_collocation)[i] for i, x in enumerate(x_collocation) if x != x0]\n",
        "\n",
        "    # The first residual is based on the Ritz method\n",
        "    N = 3  # Degree of the polynomial for the Ritz method\n",
        "    ritz_residual = interpolant(x0) - y0\n",
        "    for n in range(1, N + 1):\n",
        "        ritz_residual -= basis_function(n, x0) * y_collocation[n]\n",
        "\n",
        "    residuals.insert(0, ritz_residual)\n",
        "\n",
        "    return residuals\n",
        "\n",
        "# Solve the collocation system\n",
        "y_collocation = fsolve(collocation, y_guess)\n",
        "\n",
        "# Interpolate the solution\n",
        "solution = BarycentricInterpolator(x_collocation, y_collocation)\n",
        "\n",
        "# Test the solution at a new point\n",
        "x_test = 0.5\n",
        "y_test = solution(x_test)\n",
        "print(f\"The approximate solution at x = {x_test} is y = {y_test}\")\n",
        "y_exact = exact(x_test)\n",
        "print(f\"The exact solution at x = {x_test} is y = {y_exact}\")\n",
        "print(f\"MAE at x = {x_test} is {np.abs(y_exact - y_test)}\")\n"
      ]
    }
  ]
}