{
  "nbformat": 4,
  "nbformat_minor": 0,
  "metadata": {
    "colab": {
      "provenance": [],
      "authorship_tag": "ABX9TyNMKhLdui0KzBCR4moX3vkj",
      "include_colab_link": true
    },
    "kernelspec": {
      "name": "python3",
      "display_name": "Python 3"
    },
    "language_info": {
      "name": "python"
    }
  },
  "cells": [
    {
      "cell_type": "markdown",
      "metadata": {
        "id": "view-in-github",
        "colab_type": "text"
      },
      "source": [
        "<a href=\"https://colab.research.google.com/github/mmovahed/Spectral_Methods/blob/main/ODE/Galerkin.ipynb\" target=\"_parent\"><img src=\"https://colab.research.google.com/assets/colab-badge.svg\" alt=\"Open In Colab\"/></a>"
      ]
    },
    {
      "cell_type": "markdown",
      "source": [
        "# Galerkin weighted residual method"
      ],
      "metadata": {
        "id": "qjsFWpvTSMIm"
      }
    },
    {
      "cell_type": "markdown",
      "source": [
        "Please consider initial value problem:\n",
        "\n",
        "$y'=y$\n",
        "\n",
        "$y(0)=1$\n",
        "\n",
        "with exact solution:\n",
        "\n",
        "$y=e^x$"
      ],
      "metadata": {
        "id": "pAXf7dnnIT9Z"
      }
    },
    {
      "cell_type": "code",
      "source": [
        "import numpy as np\n",
        "from scipy.integrate import quad\n",
        "from scipy.optimize import fsolve\n",
        "\n",
        "# Define the ODE as a function\n",
        "def ode(x, y):\n",
        "    return y  # Example: dy/dx = y\n",
        "\n",
        "def exact(x):\n",
        "    return np.exp(x)\n",
        "\n",
        "# Initial condition\n",
        "x0 = 0\n",
        "y0 = 1\n",
        "\n",
        "# Define the basis functions and their derivatives\n",
        "def phi(i, x):\n",
        "    return x**i\n",
        "\n",
        "def dphi(i, x):\n",
        "    return i * x**(i-1) if i > 0 else 0\n",
        "\n",
        "# Number of basis functions\n",
        "N = 5\n",
        "\n",
        "# Galerkin method\n",
        "def galerkin(c):\n",
        "    # Approximate solution as a linear combination of basis functions\n",
        "    def y_approx(x):\n",
        "        return sum(c[i] * phi(i, x) for i in range(N))\n",
        "\n",
        "    # Residual function\n",
        "    def residual(x):\n",
        "        return ode(x, y_approx(x)) - sum(c[i] * dphi(i, x) for i in range(N))\n",
        "\n",
        "    # Weighted residuals\n",
        "    weighted_residuals = [quad(lambda x: residual(x) * phi(i, x), x0, x0 + 1)[0] for i in range(1, N)]\n",
        "\n",
        "    # The first condition is the known initial condition\n",
        "    weighted_residuals.insert(0, c[0] - y0)\n",
        "\n",
        "    return weighted_residuals\n",
        "\n",
        "# Initial guess for the coefficients\n",
        "c_guess = np.zeros(N)\n",
        "\n",
        "# Solve the Galerkin system\n",
        "c = fsolve(galerkin, c_guess)\n",
        "\n",
        "# Interpolate the solution\n",
        "y_approx = lambda x: sum(c[i] * phi(i, x) for i in range(N))\n",
        "\n",
        "# Test the solution at a new point\n",
        "x_test = 0.5\n",
        "y_test = y_approx(x_test)\n",
        "print(f\"The approximate solution at x = {x_test} is y = {y_test}\")\n",
        "y_exact = exact(x_test)\n",
        "print(f\"The exact solution at x = {x_test} is y = {y_exact}\")\n",
        "print(f\"MAE at x = {x_test} is y = {np.abs(y_exact-y_test)}\")"
      ],
      "metadata": {
        "colab": {
          "base_uri": "https://localhost:8080/"
        },
        "id": "WWV0oRrKMuAI",
        "outputId": "1e4e6758-cf6d-4242-d8f2-d3b498376aac"
      },
      "execution_count": 1,
      "outputs": [
        {
          "output_type": "stream",
          "name": "stdout",
          "text": [
            "The approximate solution at x = 0.5 is y = 1.6485517846693971\n",
            "The exact solution at x = 0.5 is y = 1.6487212707001282\n",
            "MAE at x = 0.5 is y = 0.00016948603073108082\n"
          ]
        }
      ]
    }
  ]
}