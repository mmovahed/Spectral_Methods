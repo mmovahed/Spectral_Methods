{
  "nbformat": 4,
  "nbformat_minor": 0,
  "metadata": {
    "colab": {
      "provenance": [],
      "authorship_tag": "ABX9TyPLRWcEW7i2FasKqIR0BVdJ",
      "include_colab_link": true
    },
    "kernelspec": {
      "name": "python3",
      "display_name": "Python 3"
    },
    "language_info": {
      "name": "python"
    }
  },
  "cells": [
    {
      "cell_type": "markdown",
      "metadata": {
        "id": "view-in-github",
        "colab_type": "text"
      },
      "source": [
        "<a href=\"https://colab.research.google.com/github/mmovahed/Spectral_Methods/blob/main/ODE/Subdomain.ipynb\" target=\"_parent\"><img src=\"https://colab.research.google.com/assets/colab-badge.svg\" alt=\"Open In Colab\"/></a>"
      ]
    },
    {
      "cell_type": "markdown",
      "source": [
        "# Subdomain weighted residual method"
      ],
      "metadata": {
        "id": "I90Rm-jVTpkt"
      }
    },
    {
      "cell_type": "markdown",
      "source": [
        "Please consider initial value problem:\n",
        "\n",
        "$y'=y$\n",
        "\n",
        "$y(0)=1$\n",
        "\n",
        "with exact solution:\n",
        "\n",
        "$y=e^x$"
      ],
      "metadata": {
        "id": "pAXf7dnnIT9Z"
      }
    },
    {
      "cell_type": "code",
      "source": [
        "import numpy as np\n",
        "from scipy.special import chebyt\n",
        "from scipy.integrate import quad\n",
        "from scipy.linalg import solve\n",
        "\n",
        "# Define the ODE as a function\n",
        "def ode(x, y):\n",
        "    return y  # Example: dy/dx = y\n",
        "\n",
        "def exact(x):\n",
        "    return np.exp(x)\n",
        "\n",
        "# Initial condition\n",
        "x0 = 0\n",
        "y0 = 1\n",
        "\n",
        "# Define the basis functions (Chebyshev polynomials)\n",
        "def T(n, x):\n",
        "    return chebyt(n)(x)\n",
        "\n",
        "# Number of basis functions (order of the polynomial)\n",
        "N = 10\n",
        "\n",
        "# Rescale x to [-1, 1] for Chebyshev polynomials\n",
        "def rescale(x, a, b):\n",
        "    return (2 * x - (b + a)) / (b - a)\n",
        "\n",
        "# Define the number of subdomains\n",
        "num_subdomains = 10\n",
        "subdomain_length = (x0 + 1 - x0) / num_subdomains\n",
        "\n",
        "# Compute the matrix A and vector b for the subdomain weighted residual method\n",
        "A = np.zeros((N + 1, N + 1))\n",
        "b = np.zeros(N + 1)\n",
        "\n",
        "for k in range(num_subdomains):\n",
        "    a_k = x0 + k * subdomain_length\n",
        "    b_k = a_k + subdomain_length\n",
        "\n",
        "    for i in range(N + 1):\n",
        "        for j in range(N + 1):\n",
        "            integrand_A = lambda x: T(i, rescale(x, a_k, b_k)) * T(j, rescale(x, a_k, b_k))\n",
        "            A[i, j] += quad(integrand_A, a_k, b_k)[0]\n",
        "\n",
        "        integrand_b = lambda x: T(i, rescale(x, a_k, b_k)) * ode(x, exact(x))\n",
        "        b[i] += quad(integrand_b, a_k, b_k)[0]\n",
        "\n",
        "# Solve the weighted residual problem\n",
        "coeffs = solve(A, b)\n",
        "\n",
        "# Define the approximate solution\n",
        "def approx_solution(x):\n",
        "    x_rescaled = rescale(x, x0, x0 + 1)\n",
        "    y = sum(coeffs[i] * T(i, x_rescaled) for i in range(N + 1))\n",
        "    return y\n",
        "\n",
        "# Test the solution at a new point\n",
        "x_test = 0.5\n",
        "y_test = approx_solution(x_test)\n",
        "print(f\"The approximate solution at x = {x_test} is y = {y_test}\")\n",
        "y_exact = exact(x_test)\n",
        "print(f\"The exact solution at x = {x_test} is y = {y_exact}\")\n",
        "print(f\"MAE at x = {x_test} is {np.abs(y_exact - y_test)}\")"
      ],
      "metadata": {
        "colab": {
          "base_uri": "https://localhost:8080/"
        },
        "id": "WWV0oRrKMuAI",
        "outputId": "6d4e4152-03d4-46f1-e3c1-58e818caf33d"
      },
      "execution_count": 3,
      "outputs": [
        {
          "output_type": "stream",
          "name": "stdout",
          "text": [
            "The approximate solution at x = 0.5 is y = 1.7175660864611293\n",
            "The exact solution at x = 0.5 is y = 1.6487212707001282\n",
            "MAE at x = 0.5 is 0.0688448157610011\n"
          ]
        }
      ]
    }
  ]
}