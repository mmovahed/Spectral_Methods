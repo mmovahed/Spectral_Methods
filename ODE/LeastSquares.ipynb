{
  "nbformat": 4,
  "nbformat_minor": 0,
  "metadata": {
    "colab": {
      "provenance": [],
      "authorship_tag": "ABX9TyOvvVYooVqxnGWK4IA+dCFv",
      "include_colab_link": true
    },
    "kernelspec": {
      "name": "python3",
      "display_name": "Python 3"
    },
    "language_info": {
      "name": "python"
    }
  },
  "cells": [
    {
      "cell_type": "markdown",
      "metadata": {
        "id": "view-in-github",
        "colab_type": "text"
      },
      "source": [
        "<a href=\"https://colab.research.google.com/github/mmovahed/Spectral_Methods/blob/main/ODE/LeastSquare.ipynb\" target=\"_parent\"><img src=\"https://colab.research.google.com/assets/colab-badge.svg\" alt=\"Open In Colab\"/></a>"
      ]
    },
    {
      "cell_type": "markdown",
      "source": [
        "# Least square weighted residual method"
      ],
      "metadata": {
        "id": "JWJiM8lZSC6G"
      }
    },
    {
      "cell_type": "markdown",
      "source": [
        "Please consider initial value problem:\n",
        "\n",
        "$y'=y$\n",
        "\n",
        "$y(0)=1$\n",
        "\n",
        "with exact solution:\n",
        "\n",
        "$y=e^x$"
      ],
      "metadata": {
        "id": "pAXf7dnnIT9Z"
      }
    },
    {
      "cell_type": "code",
      "source": [
        "import numpy as np\n",
        "from scipy.special import chebyt\n",
        "from scipy.integrate import quad\n",
        "from scipy.linalg import solve\n",
        "\n",
        "# Define the ODE as a function\n",
        "def ode(x, y):\n",
        "    return y  # Example: dy/dx = y\n",
        "\n",
        "def exact(x):\n",
        "    return np.exp(x)\n",
        "\n",
        "# Initial condition\n",
        "x0 = 0\n",
        "y0 = 1\n",
        "\n",
        "# Define the basis functions (Chebyshev polynomials)\n",
        "def T(n, x):\n",
        "    return chebyt(n)(x)\n",
        "\n",
        "# Number of basis functions (order of the polynomial)\n",
        "N = 5\n",
        "\n",
        "# Rescale x to [-1, 1] for Chebyshev polynomials\n",
        "def rescale(x, a, b):\n",
        "    return (2 * x - (b + a)) / (b - a)\n",
        "\n",
        "# Compute the matrix A and vector b for the least squares problem\n",
        "A = np.zeros((N + 1, N + 1))\n",
        "b = np.zeros(N + 1)\n",
        "\n",
        "# Integration limits\n",
        "a = x0\n",
        "b_range = x0 + 1\n",
        "\n",
        "for i in range(N + 1):\n",
        "    for j in range(N + 1):\n",
        "        integrand_A = lambda x: T(i, rescale(x, a, b_range)) * T(j, rescale(x, a, b_range))\n",
        "        A[i, j] = quad(integrand_A, a, b_range)[0]\n",
        "\n",
        "    integrand_b = lambda x: T(i, rescale(x, a, b_range)) * ode(x, exact(x))\n",
        "    b[i] = quad(integrand_b, a, b_range)[0]\n",
        "\n",
        "# Solve the least squares problem\n",
        "coeffs = solve(A, b)\n",
        "\n",
        "# Define the approximate solution\n",
        "def approx_solution(x):\n",
        "    x_rescaled = rescale(x, a, b_range)\n",
        "    y = sum(coeffs[i] * T(i, x_rescaled) for i in range(N + 1))\n",
        "    return y\n",
        "\n",
        "# Test the solution at a new point\n",
        "x_test = 0.5\n",
        "y_test = approx_solution(x_test)\n",
        "print(f\"The approximate solution at x = {x_test} is y = {y_test}\")\n",
        "y_exact = exact(x_test)\n",
        "print(f\"The exact solution at x = {x_test} is y = {y_exact}\")\n",
        "print(f\"MAE at x = {x_test} is {np.abs(y_exact - y_test)}\")"
      ],
      "metadata": {
        "colab": {
          "base_uri": "https://localhost:8080/"
        },
        "id": "WWV0oRrKMuAI",
        "outputId": "e333fec0-1a63-4fd7-b50b-b782f80a226c"
      },
      "execution_count": 2,
      "outputs": [
        {
          "output_type": "stream",
          "name": "stdout",
          "text": [
            "The approximate solution at x = 0.5 is y = 1.6487220507527005\n",
            "The exact solution at x = 0.5 is y = 1.6487212707001282\n",
            "MAE at x = 0.5 is 7.800525723133944e-07\n"
          ]
        }
      ]
    }
  ]
}
